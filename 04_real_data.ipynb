{
 "cells": [
  {
   "cell_type": "code",
   "execution_count": null,
   "metadata": {},
   "outputs": [],
   "source": [
    "import yaml\n",
    "import astropy.units as u\n",
    "import numpy as np\n",
    "import pandas as pd\n",
    "import matplotlib.pyplot as plt\n",
    "\n",
    "# Uncomment if SimBMVtool not in directory\n",
    "# import sys\n",
    "# path_SimBMVtool = '<path_to_SimBMVtool>'\n",
    "# sys.path.append(path_SimBMVtool)\n",
    "\n",
    "from SimBMVtool.external_bmv_creator import ExternalBMVCreator\n",
    "from SimBMVtool.toolbox import (\n",
    "    get_data_store,\n",
    "    get_skymaps_dict,\n",
    "    plot_skymap_from_dict,\n",
    "    get_dfobs_table\n",
    ")\n",
    "\n",
    "path_config = './config_real.yaml'"
   ]
  },
  {
   "cell_type": "code",
   "execution_count": null,
   "metadata": {},
   "outputs": [],
   "source": [
    "# Uncomment if you haven't downloaded gammapy datasets and update the path in config_real.yaml\n",
    "# It is needed for the catalogs\n",
    "\n",
    "# !gammapy download datasets"
   ]
  },
  {
   "cell_type": "markdown",
   "metadata": {},
   "source": [
    "# Example dataset\n",
    "\n",
    "The example dataset is a set of pointlike DL3s of Large Zenith Angle observations of the Crab Nebula\n",
    "You need to copy it, new index tables will be created with the correct paths\n",
    "\n",
    "Use the destination path as input in the configuration file `config_real.yaml` with `path_data: <path_to_copy>`\n",
    "\n",
    "The observation and hdu tables with the output background model paths will be stored there"
   ]
  },
  {
   "cell_type": "code",
   "execution_count": null,
   "metadata": {},
   "outputs": [],
   "source": [
    "!mkdir -p ./crab_LZA_data\n",
    "!cp -r /fefs/aswg/workspace/marie-sophie.carrasco/data/mc/DL3/AllSky/20230927_v0.10.4_crab_tuned/TestingDataset/dec_2276/crab_LZA/pointlike/globalgh090_pe200_thetacut_020/data/dl3_LST-1.Run12* ./crab_LZA_data"
   ]
  },
  {
   "cell_type": "code",
   "execution_count": null,
   "metadata": {},
   "outputs": [],
   "source": [
    "# Check the files in the directory following config['paths']['path_data']\n",
    "with open(path_config, 'r') as file:\n",
    "    config = yaml.safe_load(file)\n",
    "path_data = config[\"paths\"][\"path_data\"]\n",
    "obs_pattern = config[\"data\"][\"obs_pattern\"]\n",
    "source_name = config[\"source\"][\"catalog_name\"]\n",
    "\n",
    "data_store = get_data_store(path_data,obs_pattern)\n",
    "dfobs_table = get_dfobs_table(data_store.obs_table)\n",
    "\n",
    "# Look for the source in case there are several in the table.\n",
    "# The objects are compared with lower case and no space to account for different names\n",
    "is_source = dfobs_table.OBJECT.str.lower().str.replace(' ', '') == source_name.lower().replace(' ','')\n",
    "display(dfobs_table.loc[is_source].reset_index())"
   ]
  },
  {
   "cell_type": "code",
   "execution_count": null,
   "metadata": {},
   "outputs": [],
   "source": [
    "# You can check the data_store and the observations directly from the class object\n",
    "realbmv = ExternalBMVCreator(path_config, real_data=True)\n",
    "\n",
    "realbmv.load_observation_collection()\n",
    "display(realbmv.data_store.obs_table)       # Or directly with realbmv.obs_table"
   ]
  },
  {
   "cell_type": "code",
   "execution_count": null,
   "metadata": {},
   "outputs": [],
   "source": [
    "# Check the first loaded observation\n",
    "iobs = 0\n",
    "obs_id = int(realbmv.obs_collection[iobs].obs_id)\n",
    "\n",
    "print(f\"Obs id: {obs_id}\")\n",
    "realbmv.obs_collection[iobs].events.peek()\n",
    "\n",
    "# You can access the file path with the obs_table stored as a pandas dataframe: realbmv.dfobs_table\n",
    "# Usually the file paths are already in the data_store but not always, depending on how the data_store was obtained. \n",
    "# This is why the tool produces automatically the obs_table dataframe and stores the paths in it in case they are missing\n",
    "\n",
    "print(f\"Run {obs_id} file: {realbmv.dfobs_table.loc[obs_id, 'FILE_NAME']}\")"
   ]
  },
  {
   "cell_type": "code",
   "execution_count": null,
   "metadata": {},
   "outputs": [],
   "source": [
    "# Check the exclusion region that will be used for the background modeling\n",
    "realbmv.plot_exclusion_mask()\n",
    "\n",
    "# Perform background modeling or load the observations and models if the files already exist\n",
    "\n",
    "do_baccmod = True\n",
    "if do_baccmod: realbmv.do_baccmod()\n",
    "else: \n",
    "    realbmv.load_observation_collection(from_index=True)\n",
    "    realbmv.load_output_background_irfs()\n",
    "\n",
    "# If you get an IndexError, check that you put the correct OBJECT name and observation pattern in the config file"
   ]
  },
  {
   "cell_type": "code",
   "execution_count": null,
   "metadata": {},
   "outputs": [],
   "source": [
    "# Take a look at the output background model\n",
    "realbmv.bkg_output_irf_collection[np.argwhere(realbmv.obs_ids == obs_id).ravel()[0]].peek()"
   ]
  },
  {
   "cell_type": "code",
   "execution_count": null,
   "metadata": {},
   "outputs": [],
   "source": [
    "# Plot the model obtained for the first run for each energy bin\n",
    "realbmv.plot_model(data='acceptance',irf='output', i_irf=iobs)"
   ]
  },
  {
   "cell_type": "code",
   "execution_count": null,
   "metadata": {},
   "outputs": [],
   "source": [
    "# Change the exclusion region from here.\n",
    "# In this example I am using the n_circles method which appends as many circle regions as needed\n",
    "# The first circle is considered the one centered on the source\n",
    "\n",
    "# Now I want a larger region on the Crab and an additionnal circle on Zeta Tauri\n",
    "\n",
    "# Change radius for the first circle\n",
    "realbmv.n_circles_radius[0] = 0.35\n",
    "\n",
    "# Add radec coordinates and radius for the second circle\n",
    "realbmv.n_circles_radec.append([84.4125, 21.1425])\n",
    "realbmv.n_circles_radius.append(0.35)\n",
    "\n",
    "# The new exclusion region is declared with the stored parameters instead of config dict\n",
    "# The output file paths are updated accordingly\n",
    "realbmv.init_exclusion_region(cfg_exclusion_region='stored_parameters', init_save_paths=True)\n",
    "\n",
    "for i_circle in range(realbmv.n_circles):\n",
    "    print(f\"Circle {i_circle}: (ra,dec) = {realbmv.n_circles_radec[i_circle][0],realbmv.n_circles_radec[i_circle][1]} [°], radius = {realbmv.n_circles_radius[i_circle]}°\")\n",
    "\n",
    "realbmv.plot_exclusion_mask()\n",
    "\n",
    "# Now do the modeling\n",
    "realbmv.do_baccmod()\n",
    "realbmv.bkg_output_irf_collection[iobs].peek()\n",
    "realbmv.plot_model(data='acceptance',irf='output', i_irf=iobs)\n",
    "\n",
    "\n",
    "# Uncomment if you want to revert to parameters from config file\n",
    "# realbmv.init_exclusion_region(cfg_exclusion_region='stored_config')"
   ]
  },
  {
   "cell_type": "code",
   "execution_count": null,
   "metadata": {},
   "outputs": [],
   "source": [
    "# Create a zenith binned collection of models\n",
    "\n",
    "# zenith_bins: n_bins, np.array(bin_edges), 'baccmod', 'stored'\n",
    "# 'baccmod' option will recompute the binning with the baccmod method\n",
    "# 'stored' option will use already stored bins so you don't have to recompute every time\n",
    "\n",
    "# The example config has zenith binning set on False, so you should see the same output for each zenith bin\n",
    "\n",
    "realbmv.plot_zenith_binned_model(data='acceptance',irf='output', zenith_bins=2)"
   ]
  },
  {
   "cell_type": "code",
   "execution_count": null,
   "metadata": {},
   "outputs": [],
   "source": [
    "# Set the zenith binning to True\n",
    "# You can set up any modeling parameter from here.\n",
    "\n",
    "realbmv.zenith_binning = True\n",
    "realbmv.cos_zenith_binning_parameter_value = 2000\n",
    "realbmv.do_baccmod()\n",
    "\n",
    "# Plot the results.\n",
    "realbmv.plot_zenith_binned_model(data='acceptance',irf='output', zenith_bins='baccmod')"
   ]
  },
  {
   "cell_type": "code",
   "execution_count": null,
   "metadata": {},
   "outputs": [],
   "source": [
    "# The plotting function binned the models. \n",
    "# Now we can bin the observations to check the binning, with zenith_bins=\"stored\" to avoid recalculating it\n",
    "\n",
    "realbmv.create_zenith_binned_collections(collections=['observation'], zenith_bins=\"stored\")\n",
    "\n",
    "for coszd_bin_center in realbmv.cos_zenith_bin_centers:\n",
    "    coszd_bin_center_zenith = np.rad2deg(np.acos(coszd_bin_center))\n",
    "    obs_ids_in_coszd_bin = np.array(realbmv.zenith_binned_obs_collection[coszd_bin_center].ids).astype(int)\n",
    "    print(f\"zd = {coszd_bin_center_zenith:.1f}°: \", obs_ids_in_coszd_bin)\n",
    "\n",
    "realbmv.plot_zenith_binned_data(data='livetime', per_wobble=True)"
   ]
  },
  {
   "cell_type": "code",
   "execution_count": null,
   "metadata": {},
   "outputs": [],
   "source": [
    "# Here is an exemple of how to specify a run list and to exclude an array of obs_ids from it\n",
    "\n",
    "runs_to_exclude = np.array([12161, 12162, 12289, 12290])\n",
    "run_list = realbmv.all_obs_ids[~pd.Series(realbmv.all_obs_ids).isin(runs_to_exclude)]\n",
    "\n",
    "realbmv.run_list = run_list\n",
    "\n",
    "realbmv.zenith_binning = True\n",
    "realbmv.cos_zenith_binning_parameter_value = 2000\n",
    "\n",
    "realbmv.do_baccmod()\n",
    "\n",
    "realbmv.create_zenith_binned_collections(collections=['observation'], zenith_bins=\"baccmod\")\n",
    "\n",
    "for coszd_bin_center in realbmv.cos_zenith_bin_centers:\n",
    "    coszd_bin_center_zenith = np.rad2deg(np.acos(coszd_bin_center))\n",
    "    obs_ids_in_coszd_bin = np.array(realbmv.zenith_binned_obs_collection[coszd_bin_center].ids).astype(int)\n",
    "    print(f\"zd = {coszd_bin_center_zenith:.1f}°: \", obs_ids_in_coszd_bin)\n",
    "    \n",
    "realbmv.plot_zenith_binned_data(data='livetime', per_wobble=True)\n",
    "\n",
    "# Plot the results.\n",
    "realbmv.plot_zenith_binned_model(data='acceptance',irf='output', zenith_bins='stored')\n",
    "\n",
    "# In this case, I chose to create the binned collection first with the 'baccmod' option, then to plot the binned models with the stored bins\n",
    "# Both ways are possible and independent. \n",
    "# With collections=['observation', 'output'] you can bin the both the observations and the output models without having to plot them"
   ]
  },
  {
   "cell_type": "code",
   "execution_count": null,
   "metadata": {},
   "outputs": [],
   "source": [
    "# Plot only one zenith bin\n",
    "icoszd_bin = 0\n",
    "realbmv.plot_zenith_binned_model(data='acceptance',irf='output', i_bin=icoszd_bin)\n",
    "\n",
    "# You can access the file list with the obs_table stored as a pandas dataframe\n",
    "coszd_bin_center_zenith = np.rad2deg(np.acos(realbmv.cos_zenith_bin_centers[icoszd_bin]))\n",
    "obs_ids_in_coszd_bin = np.array(realbmv.zenith_binned_obs_collection[realbmv.cos_zenith_bin_centers[icoszd_bin]].ids).astype(int)\n",
    "\n",
    "print(f\"Files in bin with zd = {coszd_bin_center_zenith:.1f}°: \\n\",\n",
    "      realbmv.dfobs_table.loc[obs_ids_in_coszd_bin, 'FILE_NAME'].to_numpy())"
   ]
  },
  {
   "cell_type": "markdown",
   "metadata": {},
   "source": [
    "# Skymaps"
   ]
  },
  {
   "cell_type": "code",
   "execution_count": null,
   "metadata": {},
   "outputs": [],
   "source": [
    "# Uncomment and run if you need to reset the obs_collection loaded with the output models\n",
    "# realbmv.run_list = run_list\n",
    "# realbmv.load_observation_collection(from_index=True)"
   ]
  },
  {
   "cell_type": "code",
   "execution_count": null,
   "metadata": {},
   "outputs": [],
   "source": [
    "# Get the full stacked dataset (this step can get quite long if you have a lot of statistics)\n",
    "e_min, e_max = (realbmv.e_min, realbmv.e_max)\n",
    "offset_max_dataset = realbmv.size_fov_acc\n",
    "nbin_offset_dataset = 10 * realbmv.nbin_offset_acc\n",
    "realbmv.axis_info_dataset = [e_min, e_max, offset_max_dataset, nbin_offset_dataset]\n",
    "\n",
    "stacked_dataset = realbmv.get_stacked_dataset(bkg_method='ring', axis_info=realbmv.axis_info_dataset)\n",
    "\n",
    "# Get and plot the skymaps\n",
    "skymaps = get_skymaps_dict(stacked_dataset, realbmv.exclude_regions, realbmv.correlation_radius, realbmv.correlate_off, 'all')\n",
    "print(\"Skymaps in dict: \", [key for key in skymaps.keys()])\n",
    "\n",
    "# Use the toolbox to plot with some pre-formatting\n",
    "plot_skymap_from_dict(skymaps, 'counts')\n",
    "\n",
    "# Crop the map and/or reduce the size of the plot\n",
    "plot_skymap_from_dict(skymaps, 'excess', crop_width=2.*u.deg, figsize=(6,6))\n",
    "\n",
    "# We see that the excess map behaves badly. \n",
    "# This is related to the background model empty bins at larger offset for some energy bins.\n",
    "# If you crop the map to a safe width then it becomes good again\n",
    "\n",
    "plot_skymap_from_dict(skymaps, 'excess', crop_width=1.2 * u.deg, figsize=(6,6))\n",
    "\n",
    "# Plot any map directly the usual way with gammapy\n",
    "skymap = skymaps['significance_off']\n",
    "skymap.cutout(position=realbmv.source_pos, width=1.7 * u.deg).smooth(0.01 * u.deg).plot(add_cbar=True, cmap='magma', stretch=\"linear\")"
   ]
  },
  {
   "cell_type": "code",
   "execution_count": null,
   "metadata": {},
   "outputs": [],
   "source": [
    "# Check the residuals distribution. \n",
    "# 'significance_all' and 'significance_off' need to be in skymaps_dict\n",
    "realbmv.plot_residuals_histogram(skymaps_dict=skymaps)\n",
    "\n",
    "# Now the skymaps are stored in the class object\n",
    "realbmv.skymaps_dict.keys()"
   ]
  },
  {
   "cell_type": "code",
   "execution_count": null,
   "metadata": {},
   "outputs": [],
   "source": [
    "# The histogrammed distribution should be close to a normal distribution with mean->0 and std->1\n",
    "# Here it is not the case due to the empty bins in the background models for larger energies and/or larger offsets.\n",
    "# To get good results you need to give energy range and offset max according to the model"
   ]
  },
  {
   "cell_type": "code",
   "execution_count": null,
   "metadata": {},
   "outputs": [],
   "source": [
    "# Plot for a given energy range, following the energy bins for example\n",
    "iEbin = 0\n",
    "Ebin_edges = realbmv.Ebin_tuples[iEbin].data\n",
    "\n",
    "e_min, e_max = Ebin_edges\n",
    "print(f\"E min, E max = {e_min:.1f}, {e_max:.1f} TeV\")\n",
    "\n",
    "stacked_sliced = stacked_dataset.slice_by_energy(e_min * u.TeV, e_max * u.TeV)\n",
    "skymaps_sliced = get_skymaps_dict(stacked_dataset, realbmv.exclude_regions, realbmv.correlation_radius, realbmv.correlate_off, 'all')\n",
    "\n",
    "plot_skymap_from_dict(skymaps_sliced, 'background', crop_width=1/np.sqrt(2)*realbmv.size_fov_acc, figsize=(5,5))\n",
    "\n",
    "# You can compute and plot all the skymaps and the histogram at once for any given external MapDatasetOnOff\n",
    "realbmv.plot_skymaps('ring', stacked_sliced)\n",
    "\n",
    "# The skymaps dictionary is now stored in the class object if you want to plot a specific map with different parameters\n",
    "plot_skymap_from_dict(realbmv.skymaps_dict, 'significance_off', crop_width=1/np.sqrt(2)*realbmv.size_fov_acc, figsize=(4,4))\n",
    "\n",
    "# The given dataset is now stored in the class object\n",
    "print(realbmv.stacked_dataset)"
   ]
  },
  {
   "cell_type": "code",
   "execution_count": null,
   "metadata": {},
   "outputs": [],
   "source": [
    "# If you don't give a stacked dataset as input, the plot_skymaps method will automatically create one from the obs_collection with the desired parameters\n",
    "e_min, e_max = (0.1*u.TeV, 0.7*u.TeV)\n",
    "offset_max_dataset = 2.\n",
    "realbmv.axis_info_dataset = [e_min, e_max, offset_max_dataset * u.deg, 10 * realbmv.nbin_offset_acc]\n",
    "\n",
    "realbmv.plot_skymaps('ring')\n",
    "# Now the histogram is better due to the safe offset_max used to produce the dataset"
   ]
  },
  {
   "cell_type": "code",
   "execution_count": null,
   "metadata": {},
   "outputs": [],
   "source": [
    "# You can change the ring background parameters\n",
    "internal_ring_radius = 0.35         # [°]\n",
    "width = 0.1                         # [°]\n",
    "realbmv.ring_bkg_param = [internal_ring_radius, width]\n",
    "\n",
    "realbmv.plot_skymaps('ring')"
   ]
  },
  {
   "cell_type": "code",
   "execution_count": null,
   "metadata": {},
   "outputs": [],
   "source": [
    "# Plot for each zenith bin with the FoV background maker\n",
    "e_min, e_max = (2*u.TeV, 3*u.TeV)\n",
    "offset_max_dataset = 1.5\n",
    "realbmv.axis_info_dataset = [e_min, e_max, offset_max_dataset * u.deg, 10 * realbmv.nbin_offset_acc]\n",
    "\n",
    "for icoszd_bin in range(len(realbmv.zenith_binned_obs_collection.keys())):\n",
    "    # Get obs_ids in coszd bin\n",
    "    coszd_bin_center_zenith = np.rad2deg(np.acos(coszd_bin_center))\n",
    "    obs_ids_in_coszd_bin = np.array(realbmv.zenith_binned_obs_collection[realbmv.cos_zenith_bin_centers[icoszd_bin]].ids).astype(int)\n",
    "    print(f\"zd = {coszd_bin_center_zenith:.1f}°: \", obs_ids_in_coszd_bin)\n",
    "    \n",
    "    # Load only the observations in the coszd bin\n",
    "    realbmv.run_list = obs_ids_in_coszd_bin\n",
    "    realbmv.load_observation_collection(from_index=True)\n",
    "\n",
    "    # Plot\n",
    "    realbmv.plot_skymaps('FoV')\n",
    "    plt.show()\n",
    "\n",
    "# As an exercice you can try to change the parameters within the loop to get zenith-dependent skymaps, \n",
    "# like by changing the offset_max_dataset depending on the empty bins in the output model"
   ]
  }
 ],
 "metadata": {
  "kernelspec": {
   "display_name": "Python 3",
   "language": "python",
   "name": "python3"
  },
  "language_info": {
   "codemirror_mode": {
    "name": "ipython",
    "version": 3
   },
   "file_extension": ".py",
   "mimetype": "text/x-python",
   "name": "python",
   "nbconvert_exporter": "python",
   "pygments_lexer": "ipython3",
   "version": "3.11.11"
  }
 },
 "nbformat": 4,
 "nbformat_minor": 2
}

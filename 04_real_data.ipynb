{
 "cells": [
  {
   "cell_type": "code",
   "execution_count": null,
   "metadata": {},
   "outputs": [],
   "source": [
    "import yaml\n",
    "import astropy.units as u\n",
    "import numpy as np\n",
    "import matplotlib.pyplot as plt\n",
    "from SimBMVtool import SimBMVtool as sim\n",
    "\n",
    "path_config = './config_real.yaml'"
   ]
  },
  {
   "cell_type": "markdown",
   "metadata": {},
   "source": [
    "# Example dataset\n",
    "\n",
    "You will need to copy the LST Analysis School data, preferably without the index tables (new ones will be created with the correct paths)\n",
    "\n",
    "`/fefs/aswg/workspace/analysis-school-2024/DL3/Crab/dl3_*.fits`\n",
    "\n",
    "Use the destination path as input in the configuration file `config_real.yaml`\n"
   ]
  },
  {
   "cell_type": "code",
   "execution_count": null,
   "metadata": {},
   "outputs": [],
   "source": [
    "accmodel = sim.BaseSimBMVCreator()\n",
    "accmodel.init_config(path_config)\n",
    "accmodel.plot_exclusion_mask()\n",
    "\n",
    "do_accmodel = False\n",
    "if do_accmodel: accmodel.do_acceptance_modelisation()\n",
    "else: \n",
    "    accmodel.load_observation_collection(from_index=True)\n",
    "    accmodel.load_output_background_irfs()"
   ]
  },
  {
   "cell_type": "code",
   "execution_count": null,
   "metadata": {},
   "outputs": [],
   "source": [
    "# Plot the model obtained for the 4th run\n",
    "accmodel.plot_model(data='acceptance',irf='output', i_irf=3)"
   ]
  },
  {
   "cell_type": "code",
   "execution_count": null,
   "metadata": {},
   "outputs": [],
   "source": [
    "# Create a zenith binned collection of models, with 4 bins by default\n",
    "accmodel.plot_zenith_binned_model(data='acceptance',irf='output', zenith_bins='auto')"
   ]
  },
  {
   "cell_type": "code",
   "execution_count": null,
   "metadata": {},
   "outputs": [],
   "source": [
    "accmodel.create_zenith_binned_collections(collections=['observation'],zenith_bins='auto')\n",
    "for coszd_bin in accmodel.zenith_binned_obs_collection.keys():\n",
    "    print(f\"zd = {np.rad2deg(np.acos(coszd_bin)):.1f}°: \", accmodel.zenith_binned_obs_collection[coszd_bin].ids)"
   ]
  },
  {
   "cell_type": "code",
   "execution_count": null,
   "metadata": {},
   "outputs": [],
   "source": [
    "# Plot only one zenith bin\n",
    "accmodel.plot_zenith_binned_model(data='acceptance',irf='output', i_bin=0)"
   ]
  },
  {
   "cell_type": "code",
   "execution_count": null,
   "metadata": {},
   "outputs": [],
   "source": [
    "e_min, e_max = (accmodel.e_min, 1*u.TeV)\n",
    "offset_max_dataset, offset_max_map = (2.5, 2.5) # offset_max_dataset >= offset_max_map\n",
    "accmodel.axis_info_dataset = [e_min, e_max, offset_max_dataset * u.deg, accmodel.nbin_offset_irf]\n",
    "accmodel.axis_info_map = [e_min, e_max, offset_max_map * u.deg, accmodel.nbin_offset_irf]\n",
    "accmodel.plot_skymaps('ring')"
   ]
  },
  {
   "cell_type": "code",
   "execution_count": null,
   "metadata": {},
   "outputs": [],
   "source": [
    "# Plotting everything takes some time, and you may need to look only at one map\n",
    "stacked_dataset = accmodel.get_stacked_dataset(bkg_method='ring', axis_info=accmodel.axis_info_dataset)\n",
    "skymaps = sim.get_skymaps_dict(stacked_dataset, accmodel.exclude_regions, accmodel.correlation_radius, accmodel.correlate_off, 'all')\n",
    "print(skymaps)\n",
    "\n",
    "sim.plot_skymap_from_dict(skymaps, 'counts')\n",
    "\n",
    "# Crop the map and/or reduce the size of the plot\n",
    "sim.plot_skymap_from_dict(skymaps, 'excess', crop_width=1*u.deg, figsize=(4,4))"
   ]
  }
 ],
 "metadata": {
  "kernelspec": {
   "display_name": "Python 3",
   "language": "python",
   "name": "python3"
  },
  "language_info": {
   "codemirror_mode": {
    "name": "ipython",
    "version": 3
   },
   "file_extension": ".py",
   "mimetype": "text/x-python",
   "name": "python",
   "nbconvert_exporter": "python",
   "pygments_lexer": "ipython3",
   "version": "3.11.10"
  }
 },
 "nbformat": 4,
 "nbformat_minor": 2
}

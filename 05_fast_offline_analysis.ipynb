{
 "cells": [
  {
   "cell_type": "code",
   "execution_count": null,
   "metadata": {},
   "outputs": [],
   "source": [
    "from astropy.coordinates import SkyCoord\n",
    "import astropy.units as u\n",
    "from astropy.wcs import WCS\n",
    "from matplotlib import pyplot as plt\n",
    "from matplotlib.offsetbox import AnchoredText\n",
    "import numpy as np\n",
    "import os\n",
    "from regions import Regions, CircleSkyRegion\n",
    "from scipy.stats import norm\n",
    "\n",
    "\n",
    "# Uncomment if SimBMVtool not in directory\n",
    "# import sys\n",
    "# path_SimBMVtool = '/Users/carrasco/Prog/gammapy/simulation/SimBMVtool/SimBMVtool_baccmod'\n",
    "# sys.path.append(path_SimBMVtool)\n",
    "\n",
    "from SimBMVtool.external_bmv_creator import ExternalBMVCreator\n",
    "from SimBMVtool.toolbox import (\n",
    "    get_data_store,\n",
    "    get_skymaps_dict,\n",
    "    plot_skymap_from_dict\n",
    ")\n",
    "path_config = './config_real_fastoff.yaml'"
   ]
  },
  {
   "cell_type": "code",
   "execution_count": null,
   "metadata": {},
   "outputs": [],
   "source": [
    "realbmv = ExternalBMVCreator(path_config, real_data=True)\n",
    "do_baccmod=True\n",
    "if do_baccmod: realbmv.do_baccmod()\n",
    "else: realbmv.load_observation_collection(from_index=True)\n",
    "display(realbmv.obs_table)"
   ]
  },
  {
   "cell_type": "code",
   "execution_count": null,
   "metadata": {},
   "outputs": [],
   "source": [
    "for obs in realbmv.obs_collection: obs.events.peek()"
   ]
  },
  {
   "cell_type": "code",
   "execution_count": null,
   "metadata": {},
   "outputs": [],
   "source": [
    "realbmv.plot_model(data='acceptance',irf='output', i_irf=0)"
   ]
  },
  {
   "cell_type": "code",
   "execution_count": null,
   "metadata": {},
   "outputs": [],
   "source": [
    "# Plot the skymaps (~3 min for the test 4 crab dl3 files, the long part is creating the unstacked dataset)\n",
    "e_min, e_max = (realbmv.e_min, realbmv.e_max)\n",
    "nbin_E_per_decade = 3\n",
    "\n",
    "offset_max_dataset = realbmv.size_fov_acc.to_value(u.deg)\n",
    "width = (2 * offset_max_dataset, 2 * offset_max_dataset)\n",
    "\n",
    "realbmv.axis_info_dataset = [e_min, e_max, nbin_E_per_decade, offset_max_dataset * u.deg, width]\n",
    "realbmv.plot_skymaps('ring')"
   ]
  },
  {
   "cell_type": "code",
   "execution_count": null,
   "metadata": {},
   "outputs": [],
   "source": [
    "from gammapy.estimators.utils import find_peaks\n",
    "\n",
    "sources = find_peaks(realbmv.skymaps_dict[\"significance_all\"], threshold=5, min_distance=\"0.25 deg\")\n",
    "print(realbmv.source_name +': ',realbmv.source_pos)\n",
    "print(sources)"
   ]
  },
  {
   "cell_type": "code",
   "execution_count": null,
   "metadata": {},
   "outputs": [],
   "source": [
    "# Check an energy bin\n",
    "iEbin = 0\n",
    "e_min, e_max = (realbmv.Ebin_tuples[iEbin][0] * u.TeV, realbmv.Ebin_tuples[iEbin][1] * u.TeV)\n",
    "nbin_E_per_decade = 3\n",
    "\n",
    "offset_max_dataset = realbmv.size_fov_acc.to_value(u.deg)\n",
    "width = (2 * offset_max_dataset, 2 * offset_max_dataset)\n",
    "\n",
    "realbmv.axis_info_dataset = [e_min, e_max, nbin_E_per_decade, offset_max_dataset * u.deg, width]\n",
    "realbmv.plot_skymaps('ring')"
   ]
  }
 ],
 "metadata": {
  "kernelspec": {
   "display_name": "SimBMVtool_baccmod",
   "language": "python",
   "name": "python3"
  },
  "language_info": {
   "codemirror_mode": {
    "name": "ipython",
    "version": 3
   },
   "file_extension": ".py",
   "mimetype": "text/x-python",
   "name": "python",
   "nbconvert_exporter": "python",
   "pygments_lexer": "ipython3",
   "version": "3.11.11"
  }
 },
 "nbformat": 4,
 "nbformat_minor": 2
}
